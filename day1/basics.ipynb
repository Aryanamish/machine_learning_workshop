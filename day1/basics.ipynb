{
 "cells": [
  {
   "cell_type": "markdown",
   "id": "eee9a7d7",
   "metadata": {},
   "source": [
    "# Python Basics"
   ]
  },
  {
   "cell_type": "markdown",
   "id": "4b3a9624",
   "metadata": {},
   "source": [
    "## 1. Integer/Float"
   ]
  },
  {
   "cell_type": "code",
   "execution_count": 6,
   "id": "70ecbd6d",
   "metadata": {},
   "outputs": [
    {
     "name": "stdout",
     "output_type": "stream",
     "text": [
      "The data type of a is '<class 'float'>' and the value is '100.199'\n",
      "after type casting data type of a is '<class 'int'>' and the value is '100'\n",
      "Now data type of a is '<class 'str'>' and the value is '100'\n"
     ]
    }
   ],
   "source": [
    "a = 100.199\n",
    "print(f\"The data type of a is '{type(a)}' and the value is '{a}'\")\n",
    "a = int(a)\n",
    "print(f\"after type casting data type of a is '{type(a)}' and the value is '{a}'\")\n",
    "a = str(a)\n",
    "print(f\"Now data type of a is '{type(a)}' and the value is '{a}'\")"
   ]
  },
  {
   "cell_type": "markdown",
   "id": "43e0b0af",
   "metadata": {},
   "source": [
    "## 2. List\n",
    "**Lists are used to store multiple items in a single variable.**"
   ]
  },
  {
   "cell_type": "code",
   "execution_count": 7,
   "id": "251dc132",
   "metadata": {},
   "outputs": [
    {
     "name": "stdout",
     "output_type": "stream",
     "text": [
      "[1, 1, 2, 3, 4, 'abc', 1.43]\n",
      "[1, 1, 2, 3, 4, 'abc', 1.43, 123]\n",
      "[1, 2, 3, 4, 'abc', 1.43, 123]\n",
      "[1, 2, 3, 4, 'abc', 1.43, 123]\n",
      "[1, 2, 3, 4, 'abc', 1.43, 123]\n",
      "[1, 2, 3, 4, 'abc', 1.43, 123]\n",
      "[1, 2, 3, 4, 'abc', 1.43, 123]\n",
      "[1, 2, 3, 4, 'abc', 1.43, 123]\n",
      "[1, 2, 3, 4, 'abc', 1.43, 123]\n",
      "[1, 2, 3, 4, 'abc', 1.43, 123]\n"
     ]
    }
   ],
   "source": [
    "# List can contain multiple data types\n",
    "a = [1,1,2,3,4,'abc', 1.43]\n",
    "print(a)\n",
    "\n",
    "# Adding and deleting data from list\n",
    "\n",
    "a.append(123)\n",
    "print(a)\n",
    "a.remove(1)\n",
    "print(a)\n",
    "# List Slicing\n",
    "# list[start:end:steps]\n",
    "a[:6:2]\n",
    "\n",
    "# For loop in list\n",
    "for i in a:\n",
    "    print(a)"
   ]
  },
  {
   "cell_type": "markdown",
   "id": "4b47992e",
   "metadata": {},
   "source": [
    "## 3. Dictionaries\n",
    "**Dictionaries are used to store data values in key:value pairs.**"
   ]
  },
  {
   "cell_type": "code",
   "execution_count": 8,
   "id": "e132c4b6",
   "metadata": {},
   "outputs": [
    {
     "name": "stdout",
     "output_type": "stream",
     "text": [
      "Key: 40110122, \n",
      "\tValue: {'name': 'Aryan Amish', 'roll': '20S115893', 'branch': 'CSE', 'batch': '2020-2024'}\n",
      "Key: 40110123, \n",
      "\tValue: {'name': 'xyz', 'roll': '13314212', 'branch': 'CSE', 'batch': '2020-2024'}\n"
     ]
    }
   ],
   "source": [
    "d = {\n",
    "    \"40110122\": {\n",
    "            \"name\": \"Aryan Amish\",\n",
    "            \"roll\": \"20S115893\",\n",
    "            \"branch\": \"CSE\",\n",
    "            \"batch\": \"2020-2024\",\n",
    "    },\n",
    "        \"40110123\": {\n",
    "            \"name\": \"xyz\",\n",
    "            \"roll\": \"13314212\",\n",
    "            \"branch\": \"CSE\",\n",
    "            \"batch\": \"2020-2024\",\n",
    "    }\n",
    "}\n",
    "\n",
    "# Acessing a Value in Dict\n",
    "d[\"40110122\"][\"name\"]\n",
    "\n",
    "# For loop in dict\n",
    "for i, j in d.items():\n",
    "    print(f\"Key: {i}, \\n\\tValue: {j}\")"
   ]
  },
  {
   "cell_type": "markdown",
   "id": "8a0936d5",
   "metadata": {},
   "source": [
    "## 4. Sets\n",
    "**Sets are used to store multiple items in a single variable. It has O(1) search time complexity**\n"
   ]
  },
  {
   "cell_type": "code",
   "execution_count": 9,
   "id": "b1d4d94b",
   "metadata": {},
   "outputs": [
    {
     "name": "stdout",
     "output_type": "stream",
     "text": [
      "{1, 2, 3, 4, 12.4, 'hi there'}\n",
      "{1, 2, 3, 4, 12.4, 'hello'}\n",
      "True\n",
      "True\n",
      "False\n"
     ]
    }
   ],
   "source": [
    "s = {1,2,3,4,\"hi there\", 12.4}\n",
    "print(s)\n",
    "# adding items in sets\n",
    "s.add(\"hello\")\n",
    "# removing item in sets\n",
    "s.remove(\"hi there\")\n",
    "print(s)\n",
    "\n",
    "# Search Items in sets\n",
    "print(1 in s)\n",
    "print('hello' in s)\n",
    "print(12341 in s)"
   ]
  },
  {
   "cell_type": "markdown",
   "id": "779c0b7f",
   "metadata": {},
   "source": [
    "## 5. Bool\n",
    "**bool is a data type which stores only True and False value**"
   ]
  },
  {
   "cell_type": "code",
   "execution_count": 10,
   "id": "6f2d1ff9",
   "metadata": {},
   "outputs": [
    {
     "name": "stdout",
     "output_type": "stream",
     "text": [
      "False\n"
     ]
    }
   ],
   "source": [
    "b = False\n",
    "print(b)"
   ]
  },
  {
   "cell_type": "markdown",
   "id": "9abc1f47",
   "metadata": {},
   "source": [
    "## 6. Tuple\n",
    "**Tuple is just like list but you cannot change the value of tupe once it is defined**\n"
   ]
  },
  {
   "cell_type": "code",
   "execution_count": 11,
   "id": "7abfd7d8",
   "metadata": {},
   "outputs": [
    {
     "name": "stdout",
     "output_type": "stream",
     "text": [
      "(1, 2, 34)\n"
     ]
    }
   ],
   "source": [
    "t = (1,2,34)\n",
    "print(t)"
   ]
  },
  {
   "cell_type": "markdown",
   "id": "c7640920",
   "metadata": {},
   "source": [
    "## 7. For Loop\n",
    "\n",
    "**For Loop is used for Looping over some data type or looping over a interval**\n"
   ]
  },
  {
   "cell_type": "code",
   "execution_count": 12,
   "id": "a8967e10",
   "metadata": {},
   "outputs": [
    {
     "name": "stdout",
     "output_type": "stream",
     "text": [
      "0\n",
      "1\n",
      "2\n",
      "3\n",
      "4\n",
      "5\n",
      "6\n",
      "7\n",
      "8\n",
      "9\n",
      "1\n",
      "2\n",
      "3\n",
      "4\n",
      "5\n",
      "\n",
      "h\n",
      "i\n",
      " \n",
      "t\n",
      "h\n",
      "e\n",
      "r\n",
      "e\n"
     ]
    }
   ],
   "source": [
    "# this will print the number from 0-9\n",
    "for i in range(10):\n",
    "    print(i)\n",
    "\n",
    "# this will print the items of the list\n",
    "for i in [1,2,3,4,5]:\n",
    "    print(i)\n",
    "print()\n",
    "# this will print each character of the string\n",
    "for i in \"hi there\":\n",
    "    print(i)"
   ]
  },
  {
   "cell_type": "markdown",
   "id": "0da6cb9a",
   "metadata": {},
   "source": [
    "## 8. While Loop\n",
    "**With the while loop we can execute a set of statements as long as a condition is true.**\n"
   ]
  },
  {
   "cell_type": "code",
   "execution_count": 13,
   "id": "72e98abe",
   "metadata": {},
   "outputs": [
    {
     "name": "stdout",
     "output_type": "stream",
     "text": [
      "0\n",
      "1\n",
      "2\n",
      "3\n",
      "4\n",
      "5\n",
      "6\n",
      "7\n",
      "8\n",
      "9\n",
      "10\n"
     ]
    }
   ],
   "source": [
    "# this loop will print from 0 to 10\n",
    "a = 0\n",
    "while a<=10:\n",
    "    print(a)\n",
    "    a += 1"
   ]
  },
  {
   "cell_type": "markdown",
   "id": "bb46b84e",
   "metadata": {},
   "source": [
    "## 9. Input from User"
   ]
  },
  {
   "cell_type": "code",
   "execution_count": 14,
   "id": "85dc9b19",
   "metadata": {},
   "outputs": [
    {
     "name": "stdout",
     "output_type": "stream",
     "text": [
      "[5]\n"
     ]
    }
   ],
   "source": [
    "l = list(map(int, input().split()))\n",
    "print(l)"
   ]
  },
  {
   "cell_type": "markdown",
   "id": "5995c76b",
   "metadata": {},
   "source": [
    "## Q. Check if a number is Prime or not"
   ]
  },
  {
   "cell_type": "code",
   "execution_count": 15,
   "id": "908b2fd1",
   "metadata": {},
   "outputs": [
    {
     "name": "stdout",
     "output_type": "stream",
     "text": [
      "3 is Prime\n",
      "1 is Prime\n"
     ]
    }
   ],
   "source": [
    "def prime_number(n=None):\n",
    "    n = int(input(\"Enter a Number to check if it is Prime: \")) if n is None else n\n",
    "    is_prime = True\n",
    "    for i in range(2, n//2):\n",
    "        if n%i == 0:\n",
    "            is_prime = False\n",
    "            break\n",
    "    print(f\"{n} is Prime\" if is_prime is True else f\"{n} is not Prime\")\n",
    "\n",
    "prime_number()    \n",
    "prime_number()    "
   ]
  },
  {
   "cell_type": "markdown",
   "id": "9e578e66",
   "metadata": {},
   "source": [
    "## Q. Find the Factorial of a number"
   ]
  },
  {
   "cell_type": "code",
   "execution_count": 16,
   "id": "9a612bed",
   "metadata": {},
   "outputs": [
    {
     "name": "stdout",
     "output_type": "stream",
     "text": [
      "60415263063373835637355132068513997507264512000000000\n",
      "3446381088548184667326770790875951922006976951375582384611003611981639529782351868763804143237672379379846868628577527599609043944010849343355183826916579274876093562728501050027821075609832035303654996749361753195163012769070700485723141551669720900953728011558584003035375928212655846940281367061125645619508966404523085638743763256980870494465156859819224514274661087972929242817912092409671474491631797677547338910924800000000000000000000000000000000000000000000000000000000000\n"
     ]
    }
   ],
   "source": [
    "def factorial(n=None):\n",
    "    n = int(input(\"Enter a number to find the Factorial : \")) if n is None else n\n",
    "    ans = 1\n",
    "    for i in range(2, n+1):\n",
    "        ans *= i\n",
    "    print(ans)\n",
    "factorial()\n",
    "factorial()"
   ]
  },
  {
   "cell_type": "markdown",
   "id": "1524305c",
   "metadata": {},
   "source": [
    "## Q. sum of first and last digits of the number"
   ]
  },
  {
   "cell_type": "code",
   "execution_count": 17,
   "id": "988f077a",
   "metadata": {},
   "outputs": [
    {
     "name": "stdout",
     "output_type": "stream",
     "text": [
      "9\n",
      "9\n"
     ]
    }
   ],
   "source": [
    "def sum_first_last_digit():\n",
    "    n = input(\"Enter a number: \")\n",
    "    print(int(n[0])+int(n[-1]))\n",
    "sum_first_last_digit()\n",
    "sum_first_last_digit()"
   ]
  },
  {
   "cell_type": "markdown",
   "id": "a68d94aa",
   "metadata": {},
   "source": [
    "## Q. Palindrome"
   ]
  },
  {
   "cell_type": "code",
   "execution_count": 18,
   "id": "4f06575f",
   "metadata": {},
   "outputs": [
    {
     "name": "stdout",
     "output_type": "stream",
     "text": [
      "It is not a Plindrome\n",
      "It is not a Plindrome\n"
     ]
    }
   ],
   "source": [
    "def palindrome(orignal=None):\n",
    "    orignal = list(input(\"Enter any thing: \")) if orignal is None else orignal\n",
    "    reverse = orignal.copy()\n",
    "    reverse.reverse()\n",
    "    if orignal == reverse:\n",
    "        print(\"It is a Plindrome\")\n",
    "    else:\n",
    "        print(\"It is not a Plindrome\")\n",
    "palindrome()\n",
    "palindrome()"
   ]
  },
  {
   "cell_type": "markdown",
   "id": "5a4a4149",
   "metadata": {},
   "source": [
    "## Q. Count the numbers of digit in a number"
   ]
  },
  {
   "cell_type": "code",
   "execution_count": 19,
   "id": "d501de98",
   "metadata": {},
   "outputs": [
    {
     "name": "stdout",
     "output_type": "stream",
     "text": [
      "2\n",
      "2\n"
     ]
    }
   ],
   "source": [
    "def no_of_digits():\n",
    "    n = input(\"Enter any number: \")\n",
    "    print(len(n))\n",
    "no_of_digits()\n",
    "no_of_digits()\n"
   ]
  },
  {
   "cell_type": "markdown",
   "id": "2a687a9c",
   "metadata": {},
   "source": [
    "## Q. Armstrong Number"
   ]
  },
  {
   "cell_type": "code",
   "execution_count": 20,
   "id": "c5bff28f",
   "metadata": {},
   "outputs": [
    {
     "name": "stdout",
     "output_type": "stream",
     "text": [
      "23 is not an Armstrong number\n",
      "54 is not an Armstrong number\n"
     ]
    }
   ],
   "source": [
    "def armstrong(n=None):\n",
    "    num = int(input(\"Enter a Number: \")) if n is None else n\n",
    "    sums = 0\n",
    "\n",
    "    temp = num\n",
    "    while temp > 0:\n",
    "       digit = temp % 10\n",
    "       sums += digit ** 3\n",
    "       temp //= 10\n",
    "\n",
    "    if num == sums:\n",
    "       print(num,\"is an Armstrong number\")\n",
    "    else:\n",
    "       print(num,\"is not an Armstrong number\")\n",
    "armstrong()\n",
    "armstrong()"
   ]
  },
  {
   "cell_type": "markdown",
   "id": "6a274f9f",
   "metadata": {},
   "source": [
    "## **Q. nCr nPr**"
   ]
  },
  {
   "cell_type": "code",
   "execution_count": 21,
   "id": "18e5b6fd",
   "metadata": {},
   "outputs": [],
   "source": [
    "def npr():\n",
    "    n, r = list(map(int, input(\"Enter a Number to calculate ncr: \").split()))\n",
    "    print(n,r)\n",
    "    print(factorial(n)/factorial(n-r))\n"
   ]
  },
  {
   "cell_type": "code",
   "execution_count": 22,
   "id": "e3556885",
   "metadata": {},
   "outputs": [],
   "source": [
    "import numpy as np"
   ]
  },
  {
   "cell_type": "code",
   "execution_count": 23,
   "id": "7551045b",
   "metadata": {},
   "outputs": [
    {
     "name": "stdout",
     "output_type": "stream",
     "text": [
      "[[6 7 8]\n",
      " [1 2 3]\n",
      " [4 5 6]]\n"
     ]
    }
   ],
   "source": [
    "a = np.array([6,7,8])\n",
    "b = np.array([1,2,3])\n",
    "c = np.array([4,5,6])\n",
    "abc = np.array([a,b,c])\n",
    "print(abc)"
   ]
  },
  {
   "cell_type": "code",
   "execution_count": 24,
   "id": "493f0b9c",
   "metadata": {},
   "outputs": [
    {
     "name": "stdout",
     "output_type": "stream",
     "text": [
      "Shape:  (3, 3)\n",
      "Size is:  9\n"
     ]
    }
   ],
   "source": [
    "print(\"Shape: \",abc.shape)\n",
    "print(\"Size is: \", abc.size)"
   ]
  },
  {
   "cell_type": "code",
   "execution_count": null,
   "id": "37ed77f1",
   "metadata": {},
   "outputs": [],
   "source": []
  }
 ],
 "metadata": {
  "kernelspec": {
   "display_name": "Python 3.9.6 64-bit ('3.9.6')",
   "language": "python",
   "name": "python3"
  },
  "language_info": {
   "codemirror_mode": {
    "name": "ipython",
    "version": 3
   },
   "file_extension": ".py",
   "mimetype": "text/x-python",
   "name": "python",
   "nbconvert_exporter": "python",
   "pygments_lexer": "ipython3",
   "version": "3.9.6"
  },
  "vscode": {
   "interpreter": {
    "hash": "37c8cebd840223a877138c06d95aad8911dd20bb8b6bc916d73e3ad8208f6abe"
   }
  }
 },
 "nbformat": 4,
 "nbformat_minor": 5
}
